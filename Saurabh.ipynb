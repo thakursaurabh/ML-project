{
  "nbformat": 4,
  "nbformat_minor": 0,
  "metadata": {
    "colab": {
      "provenance": [],
      "authorship_tag": "ABX9TyOWXBVrtlZq1rXNo0mCYjBk",
      "include_colab_link": true
    },
    "kernelspec": {
      "name": "python3",
      "display_name": "Python 3"
    },
    "language_info": {
      "name": "python"
    }
  },
  "cells": [
    {
      "cell_type": "markdown",
      "metadata": {
        "id": "view-in-github",
        "colab_type": "text"
      },
      "source": [
        "<a href=\"https://colab.research.google.com/github/thakursaurabh/ML-project/blob/main/Saurabh.ipynb\" target=\"_parent\"><img src=\"https://colab.research.google.com/assets/colab-badge.svg\" alt=\"Open In Colab\"/></a>"
      ]
    },
    {
      "cell_type": "code",
      "execution_count": null,
      "metadata": {
        "id": "o5hy-jE80Lp0"
      },
      "outputs": [],
      "source": [
        "import pytesseract\n",
        "import cv2\n",
        "import re\n",
        "import spacy\n",
        "import json\n",
        "\n",
        "# Initialize spaCy for NLP\n",
        "nlp = spacy.load(\"en_core_web_sm\")\n",
        "\n",
        "# Function to extract text from an image using Tesseract OCR\n",
        "def extract_text_from_image(image_path):\n",
        "    img = cv2.imread(image_path)\n",
        "    text = pytesseract.image_to_string(img)\n",
        "    return text\n",
        "\n",
        "# Function to extract relevant information from extracted text\n",
        "def extract_invoice_info(text):\n",
        "    invoice_info = {}\n",
        "\n",
        "    # Extract invoice number\n",
        "    invoice_number = re.search(r'Invoice\\s*Number\\s*:\\s*(\\w+)', text, re.IGNORECASE)\n",
        "    if invoice_number:\n",
        "        invoice_info['invoice_number'] = invoice_number.group(1)\n",
        "\n",
        "    # Extract vendor name\n",
        "    vendor_name = re.search(r'Vendor\\s*Name\\s*:\\s*(.+)', text, re.IGNORECASE)\n",
        "    if vendor_name:\n",
        "        invoice_info['vendor_name'] = vendor_name.group(1)\n",
        "\n",
        "    # Extract GST number\n",
        "    gst_number = re.search(r'GST\\s*Number\\s*:\\s*(\\w+)', text, re.IGNORECASE)\n",
        "    if gst_number:\n",
        "        invoice_info['gst_number'] = gst_number.group(1)\n",
        "\n",
        "    # Extract vendor address\n",
        "    vendor_address = re.search(r'Vendor\\s*Address\\s*:\\s*(.+)', text, re.IGNORECASE)\n",
        "    if vendor_address:\n",
        "        invoice_info['vendor_address'] = vendor_address.group(1)\n",
        "\n",
        "    # Extract delivery address\n",
        "    delivery_address = re.search(r'Delivery\\s*Address\\s*:\\s*(.+)', text, re.IGNORECASE)\n",
        "    if delivery_address:\n",
        "        invoice_info['delivery_address'] = delivery_address.group(1)\n",
        "\n",
        "    # Extract buyer name\n",
        "    buyer_name = re.search(r'Buyer\\s*Name\\s*:\\s*(.+)', text, re.IGNORECASE)\n",
        "    if buyer_name:\n",
        "        invoice_info['buyer_name'] = buyer_name.group(1)\n",
        "\n",
        "    # Extract buyer address\n",
        "    buyer_address = re.search(r'Buyer\\s*Address\\s*:\\s*(.+)', text, re.IGNORECASE)\n",
        "    if buyer_address:\n",
        "        invoice_info['buyer_address'] = buyer_address.group(1)\n",
        "\n",
        "    # Extract item details (assuming a specific format, adjust as needed)\n",
        "    item_details = re.findall(r'Item\\s*Name:\\s*(.+)\\s*Price:\\s*(\\d+\\.\\d+)\\s*Quantity:\\s*(\\d+)\\s*Total\\s*Tax\\s*Amount:\\s*(\\d+\\.\\d+)', text, re.IGNORECASE)\n",
        "    if item_details:\n",
        "        invoice_info['item_details'] = []\n",
        "        for item in item_details:\n",
        "            item_info = {\n",
        "                'item_name': item[0],\n",
        "                'price': float(item[1]),\n",
        "                'quantity': int(item[2]),\n",
        "                'total_tax_amount': float(item[3])\n",
        "            }\n",
        "            invoice_info['item_details'].append(item_info)\n",
        "\n",
        "    return invoice_info\n",
        "\n",
        "# Replace 'invoice.jpg' with the path to your scanned invoice image\n",
        "invoice_image_path = 'invoice.jpg'\n",
        "extracted_text = extract_text_from_image(invoice_image_path)\n",
        "invoice_info = extract_invoice_info(extracted_text)\n",
        "\n",
        "# Convert the extracted information to JSON\n",
        "output_json = json.dumps(invoice_info, indent=4)\n",
        "\n",
        "# Save the JSON to a file\n",
        "with open('invoice_info.json', 'w') as json_file:\n",
        "    json_file.write(output_json)\n"
      ]
    },
    {
      "cell_type": "code",
      "source": [],
      "metadata": {
        "id": "o_hIfHi50ws2"
      },
      "execution_count": null,
      "outputs": []
    },
    {
      "cell_type": "markdown",
      "source": [],
      "metadata": {
        "id": "FWKUaKtL0xVx"
      }
    }
  ]
}